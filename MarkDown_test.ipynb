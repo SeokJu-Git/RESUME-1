{
 "cells": [
  {
   "cell_type": "markdown",
   "metadata": {},
   "source": [
    "# 소개(Introduce)\n",
    "\n",
    "- 이름 : 정재민\n",
    "- 이메일 : woalsdl500@naver.com\n",
    "- GitHub : https://github.com/jjeamin\n",
    "\n",
    "```\n",
    "Motto : JUST DO IT\n",
    "일단 해보자\n",
    "```\n",
    "\n",
    "# 회사경험\n",
    "![스마트미니시티](https://github.com/jjeamin/RESUME/blob/master/image/smartcity.PNG)\n",
    "\n",
    "- 주식회사 프론트유(2018.7 ~ 2018.8)\n",
    "- [홈페이지](http://www.frontu.co.kr:8888/)\n",
    "- 한일\n",
    "아두이노 기반 교육용 스마트미니시티 개발\n",
    "\n",
    "\n",
    "# 흥미분야\n",
    "- 딥러닝(텐서플로우)\n",
    "- 블록체인\n",
    "- 금융\n",
    "\n",
    "# 교내활동\n",
    "## 연구실\n",
    "- 연구실 깃허브 주소\n",
    "- 머신러닝 스터디\n",
    "- 연구실 논문\n",
    "- nvidia conference\n",
    "\n",
    "## 동아리\n",
    "- 인프런 교육\n",
    "\n",
    "![인프런](https://github.com/jjeamin/RESUME/blob/master/image/inflearn.PNG)\n",
    "\n",
    "- 블록체인 기반 스마트 컨트랙트 개발 강의수강\n",
    "- 블록체인 이더리움 부동산 댑(dapp) 만들기 강의수강\n",
    "\n",
    "- \n",
    "\n",
    "\n",
    "## 해커톤 참여\n"
   ]
  },
  {
   "cell_type": "code",
   "execution_count": null,
   "metadata": {},
   "outputs": [],
   "source": []
  },
  {
   "cell_type": "code",
   "execution_count": null,
   "metadata": {},
   "outputs": [],
   "source": []
  }
 ],
 "metadata": {
  "kernelspec": {
   "display_name": "Python 3",
   "language": "python",
   "name": "python3"
  },
  "language_info": {
   "codemirror_mode": {
    "name": "ipython",
    "version": 3
   },
   "file_extension": ".py",
   "mimetype": "text/x-python",
   "name": "python",
   "nbconvert_exporter": "python",
   "pygments_lexer": "ipython3",
   "version": "3.5.6"
  }
 },
 "nbformat": 4,
 "nbformat_minor": 2
}
